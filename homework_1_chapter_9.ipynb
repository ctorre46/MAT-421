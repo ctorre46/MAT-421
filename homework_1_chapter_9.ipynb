{
  "nbformat": 4,
  "nbformat_minor": 0,
  "metadata": {
    "colab": {
      "provenance": [],
      "authorship_tag": "ABX9TyMBH7pY9XGpZGGyau/mUsLD",
      "include_colab_link": true
    },
    "kernelspec": {
      "name": "python3",
      "display_name": "Python 3"
    },
    "language_info": {
      "name": "python"
    }
  },
  "cells": [
    {
      "cell_type": "markdown",
      "metadata": {
        "id": "view-in-github",
        "colab_type": "text"
      },
      "source": [
        "<a href=\"https://colab.research.google.com/github/ctorre46/MAT-421/blob/main/homework_1_chapter_9.ipynb\" target=\"_parent\"><img src=\"https://colab.research.google.com/assets/colab-badge.svg\" alt=\"Open In Colab\"/></a>"
      ]
    },
    {
      "cell_type": "markdown",
      "source": [
        "**9.1** Base-N and Binary\n",
        "In Binary the only digits (aka \"bits\") available are 0 and 1, each has the coefficient of a power of 2"
      ],
      "metadata": {
        "id": "h-YaEYuK18IO"
      }
    },
    {
      "cell_type": "markdown",
      "source": [
        "Ex 1: \"Try it\" example: Convert the number 11 (base10) into binary"
      ],
      "metadata": {
        "id": "eKvH81Gu2QLQ"
      }
    },
    {
      "cell_type": "code",
      "source": [
        "bin(11) # \"bin\" converts number given to binary"
      ],
      "metadata": {
        "colab": {
          "base_uri": "https://localhost:8080/",
          "height": 36
        },
        "id": "hXJ5CrEE2Fpj",
        "outputId": "8c1433ac-593b-48f7-cfc7-c3322c23bdc8"
      },
      "execution_count": null,
      "outputs": [
        {
          "output_type": "execute_result",
          "data": {
            "text/plain": [
              "'0b1011'"
            ],
            "application/vnd.google.colaboratory.intrinsic+json": {
              "type": "string"
            }
          },
          "metadata": {},
          "execution_count": 15
        }
      ]
    },
    {
      "cell_type": "markdown",
      "source": [
        "Ex 2: \"Try it\" example: Multiply/add binary\n",
        "Convert 37 (base 10) and 17 (base 10) into binary. Add and multiply resulting numbers"
      ],
      "metadata": {
        "id": "hFdJbnXc2v-p"
      }
    },
    {
      "cell_type": "code",
      "source": [
        "bin(37) # converting 37 to binary"
      ],
      "metadata": {
        "colab": {
          "base_uri": "https://localhost:8080/",
          "height": 36
        },
        "id": "q2h-1Sdi2upL",
        "outputId": "35c110be-1bc4-4b7b-f810-72887325b078"
      },
      "execution_count": null,
      "outputs": [
        {
          "output_type": "execute_result",
          "data": {
            "text/plain": [
              "'0b100101'"
            ],
            "application/vnd.google.colaboratory.intrinsic+json": {
              "type": "string"
            }
          },
          "metadata": {},
          "execution_count": 17
        }
      ]
    },
    {
      "cell_type": "code",
      "source": [
        "bin(17) # converting 17 into binary"
      ],
      "metadata": {
        "colab": {
          "base_uri": "https://localhost:8080/",
          "height": 36
        },
        "id": "gBSzPv-Y5ZP_",
        "outputId": "7850d716-ce2e-4c34-8b73-321a3e32c919"
      },
      "execution_count": null,
      "outputs": [
        {
          "output_type": "execute_result",
          "data": {
            "text/plain": [
              "'0b10001'"
            ],
            "application/vnd.google.colaboratory.intrinsic+json": {
              "type": "string"
            }
          },
          "metadata": {},
          "execution_count": 18
        }
      ]
    },
    {
      "cell_type": "markdown",
      "source": [
        "  Code so far:"
      ],
      "metadata": {
        "id": "L40behuW5tEs"
      }
    },
    {
      "cell_type": "code",
      "source": [
        "bin(37) # converting 37 to binary\n",
        "bin(17) # converting 17 to binary\n",
        "x = 0b100101 # binary of 37\n",
        "y = 0b10001 # binary of 17\n",
        "z = x + y # storing z value\n",
        "print(f\"{z:b}\") # printed result of c as binary"
      ],
      "metadata": {
        "colab": {
          "base_uri": "https://localhost:8080/"
        },
        "id": "R2RWWc_M6Fnf",
        "outputId": "c5bba2b1-f56c-4067-c5fb-019f55258423"
      },
      "execution_count": null,
      "outputs": [
        {
          "output_type": "stream",
          "name": "stdout",
          "text": [
            "110110\n"
          ]
        }
      ]
    },
    {
      "cell_type": "markdown",
      "source": [
        "**9.2** Problem 1"
      ],
      "metadata": {
        "id": "XTzTMf8tyn50"
      }
    },
    {
      "cell_type": "code",
      "execution_count": null,
      "metadata": {
        "id": "zGFcTfTCLcgk"
      },
      "outputs": [],
      "source": [
        "def my_bin_2_dec(b):\n",
        "  d=0\n",
        "  for digit in b:  # to obtain number from input given\n",
        "    d=d*2 + int(digit) # converting the digit to an integer\n",
        "    return d;"
      ]
    },
    {
      "cell_type": "markdown",
      "source": [
        "Ex 1: \"Try it\" Use the spacing function to determine the gap at 1e5. Verify that adding a number to 1e5 that is less than half the gap at 1e9 results in the same number."
      ],
      "metadata": {
        "id": "SrXf_Y6T91tO"
      }
    },
    {
      "cell_type": "code",
      "source": [
        "import numpy as np\n",
        "np.spacing(1e5) # gap at 1e5"
      ],
      "metadata": {
        "colab": {
          "base_uri": "https://localhost:8080/"
        },
        "id": "pZ2XI7I_-Zq7",
        "outputId": "2d61a333-ec86-4108-d8c8-7891325855c3"
      },
      "execution_count": null,
      "outputs": [
        {
          "output_type": "execute_result",
          "data": {
            "text/plain": [
              "1.862645149230957e-09"
            ]
          },
          "metadata": {},
          "execution_count": 23
        }
      ]
    },
    {
      "cell_type": "code",
      "source": [
        "1e5 == (1e5 + np.spacing(1e5)/3) # check that adding to 1e5 is less than 1/2"
      ],
      "metadata": {
        "colab": {
          "base_uri": "https://localhost:8080/"
        },
        "id": "SrxycyHv-zkp",
        "outputId": "511b05ef-1c3a-4c1b-e2bb-592cf8021a0c"
      },
      "execution_count": null,
      "outputs": [
        {
          "output_type": "execute_result",
          "data": {
            "text/plain": [
              "True"
            ]
          },
          "metadata": {},
          "execution_count": 24
        }
      ]
    },
    {
      "cell_type": "markdown",
      "source": [
        "**9.3** Round-off Error\n",
        "The difference between the approximation of a decimal and the true value."
      ],
      "metadata": {
        "id": "bvY2jjohBwDn"
      }
    },
    {
      "cell_type": "code",
      "source": [
        "5.6 - 5.387 == 0.213 # round off"
      ],
      "metadata": {
        "colab": {
          "base_uri": "https://localhost:8080/"
        },
        "id": "Vs1nL9wWB5aQ",
        "outputId": "1c3283bc-49ac-4dcc-a709-11755033e459"
      },
      "execution_count": null,
      "outputs": [
        {
          "output_type": "execute_result",
          "data": {
            "text/plain": [
              "False"
            ]
          },
          "metadata": {},
          "execution_count": 1
        }
      ]
    },
    {
      "cell_type": "markdown",
      "source": [
        "true value of 5.6 - 5.387 :"
      ],
      "metadata": {
        "id": "bXLFEkVTCetr"
      }
    },
    {
      "cell_type": "code",
      "source": [
        "5.6 - 5.387"
      ],
      "metadata": {
        "colab": {
          "base_uri": "https://localhost:8080/"
        },
        "id": "Q3E6nxkTCjUQ",
        "outputId": "353fcc0d-44a0-4f84-bd3d-03ca3453a468"
      },
      "execution_count": null,
      "outputs": [
        {
          "output_type": "execute_result",
          "data": {
            "text/plain": [
              "0.21300000000000008"
            ]
          },
          "metadata": {},
          "execution_count": 2
        }
      ]
    },
    {
      "cell_type": "markdown",
      "source": [
        "Ex: Use equation 3 + 2/9 - 2/9 , run equation once. Create iteration that adds 2/9 and subtracts 2/9 the same number of times."
      ],
      "metadata": {
        "id": "nUBtqak0EuGM"
      }
    },
    {
      "cell_type": "code",
      "source": [
        "3 + 2/9 - 2/9"
      ],
      "metadata": {
        "colab": {
          "base_uri": "https://localhost:8080/"
        },
        "id": "pRTXec-OE1t8",
        "outputId": "5e7e893c-c59b-493c-b6c2-1a8098c66f97"
      },
      "execution_count": null,
      "outputs": [
        {
          "output_type": "execute_result",
          "data": {
            "text/plain": [
              "3.0"
            ]
          },
          "metadata": {},
          "execution_count": 3
        }
      ]
    },
    {
      "cell_type": "code",
      "source": [
        "def add_and_subtract(iterations): # define function\n",
        "  result = 3.0\n",
        "\n",
        "  for i in range(iterations): #loop for adding 2/9 for iterations\n",
        "      result += (2/9)\n",
        "\n",
        "  for i in range(iterations): #loop for subtracting 2/9 for iterations\n",
        "      result -= (2/9)\n",
        "  return result"
      ],
      "metadata": {
        "id": "Na1thiBNE6WS"
      },
      "execution_count": null,
      "outputs": []
    },
    {
      "cell_type": "code",
      "source": [
        "add_and_subtract(1000) #run function 1000 times"
      ],
      "metadata": {
        "colab": {
          "base_uri": "https://localhost:8080/"
        },
        "id": "qaMRW1sWFww3",
        "outputId": "95f57b10-8cae-4f37-868a-d184e9b55003"
      },
      "execution_count": null,
      "outputs": [
        {
          "output_type": "execute_result",
          "data": {
            "text/plain": [
              "3.000000000000001"
            ]
          },
          "metadata": {},
          "execution_count": 11
        }
      ]
    },
    {
      "cell_type": "code",
      "source": [
        "add_and_subtract(10000)"
      ],
      "metadata": {
        "colab": {
          "base_uri": "https://localhost:8080/"
        },
        "id": "VJuX6YG9HXXI",
        "outputId": "3907ffd5-a332-4d74-8d91-d0b561a5b42b"
      },
      "execution_count": null,
      "outputs": [
        {
          "output_type": "execute_result",
          "data": {
            "text/plain": [
              "2.999999999999944"
            ]
          },
          "metadata": {},
          "execution_count": 12
        }
      ]
    }
  ]
}